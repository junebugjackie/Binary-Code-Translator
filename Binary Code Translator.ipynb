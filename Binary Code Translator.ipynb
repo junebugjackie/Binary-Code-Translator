{
 "cells": [
  {
   "cell_type": "markdown",
   "id": "325a9cca",
   "metadata": {},
   "source": [
    "I've learned a lot during my coding journey, and one of the things I've been most facinated with is binary code.\n",
    "I wanted to learn how to write \"I love you\" in binary, but thought \"Why stop there?\"\n",
    "So I created a binary code translator so I could write anything I wanted in binary!  Like my name, or explicatives, or both!\n",
    "(Note: The current code excludes numbers and special characters)\n",
    "\n",
    "P.S. The original code was drafted inside the SoloLearn app on a plane flight from NYC to Miami, and then copied and pasted into Jupyter Notebook when I got home, which is why there are not many edits accounted for."
   ]
  },
  {
   "cell_type": "code",
   "execution_count": 1,
   "id": "8d4f01f9",
   "metadata": {},
   "outputs": [
    {
     "name": "stdout",
     "output_type": "stream",
     "text": [
      "jackie\n",
      "['j', 'a', 'c', 'k', 'i', 'e']\n",
      "01010 00001 00011 01011 01001 00101 "
     ]
    }
   ],
   "source": [
    "# Binary Code Converter\n",
    "# Please enter a word or sentence and I will translate it to\n",
    "# binary code for you! (: Numbers & special characters will\n",
    "# be ignored.\n",
    "\n",
    "code_key = {\n",
    "    \"a\": \"00001\",\n",
    "    \"b\": \"00010\",\n",
    "    \"c\": \"00011\",\n",
    "    \"d\": \"00100\",\n",
    "    \"e\": \"00101\",\n",
    "    \"f\": \"00110\",\n",
    "    \"g\": \"00111\",\n",
    "    \"h\": \"01000\",\n",
    "    \"i\": \"01001\",\n",
    "    \"j\": \"01010\",\n",
    "    \"k\": \"01011\",\n",
    "    \"l\": \"01100\",\n",
    "    \"m\": \"01101\",\n",
    "    \"n\": \"01110\",\n",
    "    \"o\": \"01111\",\n",
    "    \"p\": \"10000\",\n",
    "    \"q\": \"10001\",\n",
    "    \"r\": \"10010\",\n",
    "    \"s\": \"10011\",\n",
    "    \"t\": \"10100\",\n",
    "    \"u\": \"10101\",\n",
    "    \"v\": \"10110\",\n",
    "    \"w\": \"10111\",\n",
    "    \"x\": \"11000\",\n",
    "    \"y\": \"11001\",\n",
    "    \"z\": \"11010\"\n",
    "    }\n",
    "\n",
    "x = str(input())\n",
    "xy = x.lower()\n",
    "xyz = list(xy)\n",
    "# testing to make sure a list is created\n",
    "print(xyz)\n",
    "\n",
    "for i in xyz:\n",
    "\ttry:\n",
    "\t\tif i in code_key:\n",
    "\t\t\tprint(code_key[i], end=' ')\n",
    "\texcept:\n",
    "\t\tignore\n",
    "# ^ This ignores special character and spaces\n",
    "# If you do not want spaces after each letter, remove the\n",
    "# spacing inside --> end=' '"
   ]
  },
  {
   "cell_type": "code",
   "execution_count": null,
   "id": "152ea830",
   "metadata": {},
   "outputs": [],
   "source": []
  }
 ],
 "metadata": {
  "kernelspec": {
   "display_name": "Python 3",
   "language": "python",
   "name": "python3"
  },
  "language_info": {
   "codemirror_mode": {
    "name": "ipython",
    "version": 3
   },
   "file_extension": ".py",
   "mimetype": "text/x-python",
   "name": "python",
   "nbconvert_exporter": "python",
   "pygments_lexer": "ipython3",
   "version": "3.8.8"
  }
 },
 "nbformat": 4,
 "nbformat_minor": 5
}
